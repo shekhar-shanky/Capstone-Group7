{
 "cells": [
  {
   "cell_type": "code",
   "execution_count": 65,
   "metadata": {},
   "outputs": [],
   "source": [
    "import hashlib\n",
    "from AESCipher import AESCipher\n",
    "import pprint\n",
    "import datetime as date\n",
    "import numpy as np\n",
    "import pandas as pd\n",
    "import time\n",
    "import datetime\n",
    "import json"
   ]
  },
  {
   "cell_type": "code",
   "execution_count": 22,
   "metadata": {},
   "outputs": [],
   "source": [
    "cipher = AESCipher('capstone7defaultpassphrase')\n",
    "data1 = {\"Name\": (cipher.encrypt(\"Rohit\")).decode(\"utf-8\"), \\\n",
    "         \"DOB\": (cipher.encrypt(\"01-Jan-2013\")).decode(\"utf-8\"), \\\n",
    "         \"PanCard\": (cipher.encrypt(\"AYHH1224N\")).decode(\"utf-8\"), \\\n",
    "         \"AddharCard\": (cipher.encrypt(\"123456789013\")).decode(\"utf-8\") }"
   ]
  },
  {
   "cell_type": "code",
   "execution_count": 23,
   "metadata": {},
   "outputs": [
    {
     "data": {
      "text/plain": [
       "{'AddharCard': 'lrqb/IoiS9NvJWpTy2UiaOj6h1P403V50MkRu2dmf1jbHeBjaqLK+CodGKpPUpTc',\n",
       " 'DOB': 'AJNhNQ7BcYS3PkvAPpTiUSkyhleHATk0QsV3Y++QFnILc4IhnZqhqLyhV2nBS0w5',\n",
       " 'Name': 'P9xf10cKvO12tTcHBbp9Uizng/YDveVM9typ13K3HfxnhDbp5b9BL5M/qqKrZig0',\n",
       " 'PanCard': 'oAWVfcsjRaILJJgo1eKHHi9lZaHsBqCFB0rCG4HyMv6oJEa/WXB5Y9IPARFRjai9'}"
      ]
     },
     "execution_count": 23,
     "metadata": {},
     "output_type": "execute_result"
    }
   ],
   "source": [
    "data1"
   ]
  },
  {
   "cell_type": "code",
   "execution_count": 24,
   "metadata": {},
   "outputs": [],
   "source": [
    "#data1 = {'Name': 'Rohit', 'DOB': '01-Jan-2013', 'PanCard': 'AYHH1224N', 'AddharCard': '123456789013' }"
   ]
  },
  {
   "cell_type": "code",
   "execution_count": 25,
   "metadata": {},
   "outputs": [],
   "source": [
    "def hashMe(msg=\"\"):\n",
    "        return hashlib.sha256(str(msg).encode('utf-8')).hexdigest()"
   ]
  },
  {
   "cell_type": "code",
   "execution_count": 26,
   "metadata": {},
   "outputs": [],
   "source": [
    "def getCurrentTime():\n",
    "    return datetime.datetime.fromtimestamp(time.time()).strftime('%Y-%m-%d %H:%M:%S')"
   ]
  },
  {
   "cell_type": "code",
   "execution_count": 48,
   "metadata": {},
   "outputs": [],
   "source": [
    "class Block:\n",
    "    \n",
    "    def __init__(self, blockNumber, timestamp, data, parentHash):\n",
    "        self.blockNumber = blockNumber\n",
    "        self.timestamp = timestamp\n",
    "        self.data = data\n",
    "        self.parentHash = parentHash\n",
    "        self.content =  {\"blockNumber\": str(blockNumber), \"parentHash\":parentHash, \\\n",
    "                         \"timestamp\": timestamp, \"data\": data}\n",
    "        self.hash = hashMe(self.content)  \n",
    "        \n",
    "    def printBlock(self):\n",
    "        abc = {\"hash\":self.hash, \"content\": self.content}\n",
    "        return abc    "
   ]
  },
  {
   "cell_type": "code",
   "execution_count": 49,
   "metadata": {},
   "outputs": [],
   "source": [
    "def create_genesis_block():\n",
    "    block = Block(0, getCurrentTime(), data1, \"None\")\n",
    "    print(\"Block #{} has been added to the GENSIS blockchain!\".format(block.blockNumber))\n",
    "    print(\"Hash: {}\".format(block.hash) )\n",
    "    print(\"Previous Hash: {}\\n\".format(block.parentHash) )\n",
    "    return block"
   ]
  },
  {
   "cell_type": "code",
   "execution_count": 50,
   "metadata": {},
   "outputs": [],
   "source": [
    "def next_block(last_block):\n",
    "    this_blockNumber = last_block.blockNumber + 1\n",
    "    this_timestamp = getCurrentTime()\n",
    "    this_data = data1\n",
    "    this_hash = last_block.hash\n",
    "    return Block(this_blockNumber, this_timestamp, this_data, this_hash)"
   ]
  },
  {
   "cell_type": "code",
   "execution_count": 51,
   "metadata": {
    "scrolled": true
   },
   "outputs": [
    {
     "name": "stdout",
     "output_type": "stream",
     "text": [
      "Block #0 has been added to the GENSIS blockchain!\n",
      "Hash: 3f2ee295d5619e75832aa0478138015b4f32343c1fe13fb9c2092246f40a47af\n",
      "Previous Hash: None\n",
      "\n",
      "Block #1 has been added to the blockchain!\n",
      "Hash: c1da8f9a5c6cf88f1b87953c04de763be245eb782a54c85f65c78245d506c671\n",
      "Previous Hash: 3f2ee295d5619e75832aa0478138015b4f32343c1fe13fb9c2092246f40a47af\n",
      "\n",
      "Block #2 has been added to the blockchain!\n",
      "Hash: fcdf7cffe02273365c1b342cb0bc87f71a7fb36c63614580fca75cb49e51919c\n",
      "Previous Hash: c1da8f9a5c6cf88f1b87953c04de763be245eb782a54c85f65c78245d506c671\n",
      "\n",
      "Block #3 has been added to the blockchain!\n",
      "Hash: c6efcec748ab448be957eeb6987e563df2ff46e2c0a6c6e98e7abada73689eb0\n",
      "Previous Hash: fcdf7cffe02273365c1b342cb0bc87f71a7fb36c63614580fca75cb49e51919c\n",
      "\n",
      "Block #4 has been added to the blockchain!\n",
      "Hash: 7ef4b8a64d2811a63dab879c38f66baa124eb62ce20e9070a2cbd734cf7c9465\n",
      "Previous Hash: c6efcec748ab448be957eeb6987e563df2ff46e2c0a6c6e98e7abada73689eb0\n",
      "\n",
      "Block #5 has been added to the blockchain!\n",
      "Hash: b239e04bbcfb74565b43dd3628e51941aa2e251e90ae22229507528b602ef6c0\n",
      "Previous Hash: 7ef4b8a64d2811a63dab879c38f66baa124eb62ce20e9070a2cbd734cf7c9465\n",
      "\n",
      "Block #6 has been added to the blockchain!\n",
      "Hash: d00599c8b6664b3155759e73edd43bce5a19bad8281ccfc6def67caa0933e1c5\n",
      "Previous Hash: b239e04bbcfb74565b43dd3628e51941aa2e251e90ae22229507528b602ef6c0\n",
      "\n",
      "Block #7 has been added to the blockchain!\n",
      "Hash: c29aa5f77b0514eb82ba9fc101d81caa8b09ca9924480d731798ffd0302f01c5\n",
      "Previous Hash: d00599c8b6664b3155759e73edd43bce5a19bad8281ccfc6def67caa0933e1c5\n",
      "\n",
      "Block #8 has been added to the blockchain!\n",
      "Hash: 5ac6199159161f73b237d11759e0e1ecfe31c18941cad709eea86d72f4bc8ec8\n",
      "Previous Hash: c29aa5f77b0514eb82ba9fc101d81caa8b09ca9924480d731798ffd0302f01c5\n",
      "\n",
      "Block #9 has been added to the blockchain!\n",
      "Hash: 2393fdfdaaae2de1b162bb0adfbf9ac3732753de47fbc492ce9b489722c268c7\n",
      "Previous Hash: 5ac6199159161f73b237d11759e0e1ecfe31c18941cad709eea86d72f4bc8ec8\n",
      "\n",
      "10\n"
     ]
    }
   ],
   "source": [
    "blockchain = [create_genesis_block()]\n",
    "previous_block = blockchain[-1]\n",
    "num_of_blocks_to_add = 9\n",
    "\n",
    "for i in range(0, num_of_blocks_to_add):\n",
    "    block_to_add = next_block(previous_block)\n",
    "    blockchain.append(block_to_add)\n",
    "    previous_block = block_to_add\n",
    "    # Tell everyone about it!\n",
    "    print(\"Block #{} has been added to the blockchain!\".format(block_to_add.blockNumber))\n",
    "    print(\"Hash: {}\".format(block_to_add.hash) )\n",
    "    print(\"Previous Hash: {}\\n\".format(previous_block.parentHash) )\n",
    "    \n",
    "print(len(blockchain))"
   ]
  },
  {
   "cell_type": "code",
   "execution_count": 74,
   "metadata": {},
   "outputs": [
    {
     "name": "stdout",
     "output_type": "stream",
     "text": [
      "['{\"hash\": \"3f2ee295d5619e75832aa0478138015b4f32343c1fe13fb9c2092246f40a47af\", \"content\": {\"blockNumber\": \"0\", \"parentHash\": \"None\", \"timestamp\": \"2018-03-03 20:20:47\", \"data\": {\"Name\": \"P9xf10cKvO12tTcHBbp9Uizng/YDveVM9typ13K3HfxnhDbp5b9BL5M/qqKrZig0\", \"DOB\": \"AJNhNQ7BcYS3PkvAPpTiUSkyhleHATk0QsV3Y++QFnILc4IhnZqhqLyhV2nBS0w5\", \"PanCard\": \"oAWVfcsjRaILJJgo1eKHHi9lZaHsBqCFB0rCG4HyMv6oJEa/WXB5Y9IPARFRjai9\", \"AddharCard\": \"lrqb/IoiS9NvJWpTy2UiaOj6h1P403V50MkRu2dmf1jbHeBjaqLK+CodGKpPUpTc\"}}}', '{\"hash\": \"c1da8f9a5c6cf88f1b87953c04de763be245eb782a54c85f65c78245d506c671\", \"content\": {\"blockNumber\": \"1\", \"parentHash\": \"3f2ee295d5619e75832aa0478138015b4f32343c1fe13fb9c2092246f40a47af\", \"timestamp\": \"2018-03-03 20:20:47\", \"data\": {\"Name\": \"P9xf10cKvO12tTcHBbp9Uizng/YDveVM9typ13K3HfxnhDbp5b9BL5M/qqKrZig0\", \"DOB\": \"AJNhNQ7BcYS3PkvAPpTiUSkyhleHATk0QsV3Y++QFnILc4IhnZqhqLyhV2nBS0w5\", \"PanCard\": \"oAWVfcsjRaILJJgo1eKHHi9lZaHsBqCFB0rCG4HyMv6oJEa/WXB5Y9IPARFRjai9\", \"AddharCard\": \"lrqb/IoiS9NvJWpTy2UiaOj6h1P403V50MkRu2dmf1jbHeBjaqLK+CodGKpPUpTc\"}}}', '{\"hash\": \"fcdf7cffe02273365c1b342cb0bc87f71a7fb36c63614580fca75cb49e51919c\", \"content\": {\"blockNumber\": \"2\", \"parentHash\": \"c1da8f9a5c6cf88f1b87953c04de763be245eb782a54c85f65c78245d506c671\", \"timestamp\": \"2018-03-03 20:20:47\", \"data\": {\"Name\": \"P9xf10cKvO12tTcHBbp9Uizng/YDveVM9typ13K3HfxnhDbp5b9BL5M/qqKrZig0\", \"DOB\": \"AJNhNQ7BcYS3PkvAPpTiUSkyhleHATk0QsV3Y++QFnILc4IhnZqhqLyhV2nBS0w5\", \"PanCard\": \"oAWVfcsjRaILJJgo1eKHHi9lZaHsBqCFB0rCG4HyMv6oJEa/WXB5Y9IPARFRjai9\", \"AddharCard\": \"lrqb/IoiS9NvJWpTy2UiaOj6h1P403V50MkRu2dmf1jbHeBjaqLK+CodGKpPUpTc\"}}}', '{\"hash\": \"c6efcec748ab448be957eeb6987e563df2ff46e2c0a6c6e98e7abada73689eb0\", \"content\": {\"blockNumber\": \"3\", \"parentHash\": \"fcdf7cffe02273365c1b342cb0bc87f71a7fb36c63614580fca75cb49e51919c\", \"timestamp\": \"2018-03-03 20:20:47\", \"data\": {\"Name\": \"P9xf10cKvO12tTcHBbp9Uizng/YDveVM9typ13K3HfxnhDbp5b9BL5M/qqKrZig0\", \"DOB\": \"AJNhNQ7BcYS3PkvAPpTiUSkyhleHATk0QsV3Y++QFnILc4IhnZqhqLyhV2nBS0w5\", \"PanCard\": \"oAWVfcsjRaILJJgo1eKHHi9lZaHsBqCFB0rCG4HyMv6oJEa/WXB5Y9IPARFRjai9\", \"AddharCard\": \"lrqb/IoiS9NvJWpTy2UiaOj6h1P403V50MkRu2dmf1jbHeBjaqLK+CodGKpPUpTc\"}}}', '{\"hash\": \"7ef4b8a64d2811a63dab879c38f66baa124eb62ce20e9070a2cbd734cf7c9465\", \"content\": {\"blockNumber\": \"4\", \"parentHash\": \"c6efcec748ab448be957eeb6987e563df2ff46e2c0a6c6e98e7abada73689eb0\", \"timestamp\": \"2018-03-03 20:20:47\", \"data\": {\"Name\": \"P9xf10cKvO12tTcHBbp9Uizng/YDveVM9typ13K3HfxnhDbp5b9BL5M/qqKrZig0\", \"DOB\": \"AJNhNQ7BcYS3PkvAPpTiUSkyhleHATk0QsV3Y++QFnILc4IhnZqhqLyhV2nBS0w5\", \"PanCard\": \"oAWVfcsjRaILJJgo1eKHHi9lZaHsBqCFB0rCG4HyMv6oJEa/WXB5Y9IPARFRjai9\", \"AddharCard\": \"lrqb/IoiS9NvJWpTy2UiaOj6h1P403V50MkRu2dmf1jbHeBjaqLK+CodGKpPUpTc\"}}}', '{\"hash\": \"b239e04bbcfb74565b43dd3628e51941aa2e251e90ae22229507528b602ef6c0\", \"content\": {\"blockNumber\": \"5\", \"parentHash\": \"7ef4b8a64d2811a63dab879c38f66baa124eb62ce20e9070a2cbd734cf7c9465\", \"timestamp\": \"2018-03-03 20:20:47\", \"data\": {\"Name\": \"P9xf10cKvO12tTcHBbp9Uizng/YDveVM9typ13K3HfxnhDbp5b9BL5M/qqKrZig0\", \"DOB\": \"AJNhNQ7BcYS3PkvAPpTiUSkyhleHATk0QsV3Y++QFnILc4IhnZqhqLyhV2nBS0w5\", \"PanCard\": \"oAWVfcsjRaILJJgo1eKHHi9lZaHsBqCFB0rCG4HyMv6oJEa/WXB5Y9IPARFRjai9\", \"AddharCard\": \"lrqb/IoiS9NvJWpTy2UiaOj6h1P403V50MkRu2dmf1jbHeBjaqLK+CodGKpPUpTc\"}}}', '{\"hash\": \"d00599c8b6664b3155759e73edd43bce5a19bad8281ccfc6def67caa0933e1c5\", \"content\": {\"blockNumber\": \"6\", \"parentHash\": \"b239e04bbcfb74565b43dd3628e51941aa2e251e90ae22229507528b602ef6c0\", \"timestamp\": \"2018-03-03 20:20:47\", \"data\": {\"Name\": \"P9xf10cKvO12tTcHBbp9Uizng/YDveVM9typ13K3HfxnhDbp5b9BL5M/qqKrZig0\", \"DOB\": \"AJNhNQ7BcYS3PkvAPpTiUSkyhleHATk0QsV3Y++QFnILc4IhnZqhqLyhV2nBS0w5\", \"PanCard\": \"oAWVfcsjRaILJJgo1eKHHi9lZaHsBqCFB0rCG4HyMv6oJEa/WXB5Y9IPARFRjai9\", \"AddharCard\": \"lrqb/IoiS9NvJWpTy2UiaOj6h1P403V50MkRu2dmf1jbHeBjaqLK+CodGKpPUpTc\"}}}', '{\"hash\": \"c29aa5f77b0514eb82ba9fc101d81caa8b09ca9924480d731798ffd0302f01c5\", \"content\": {\"blockNumber\": \"7\", \"parentHash\": \"d00599c8b6664b3155759e73edd43bce5a19bad8281ccfc6def67caa0933e1c5\", \"timestamp\": \"2018-03-03 20:20:47\", \"data\": {\"Name\": \"P9xf10cKvO12tTcHBbp9Uizng/YDveVM9typ13K3HfxnhDbp5b9BL5M/qqKrZig0\", \"DOB\": \"AJNhNQ7BcYS3PkvAPpTiUSkyhleHATk0QsV3Y++QFnILc4IhnZqhqLyhV2nBS0w5\", \"PanCard\": \"oAWVfcsjRaILJJgo1eKHHi9lZaHsBqCFB0rCG4HyMv6oJEa/WXB5Y9IPARFRjai9\", \"AddharCard\": \"lrqb/IoiS9NvJWpTy2UiaOj6h1P403V50MkRu2dmf1jbHeBjaqLK+CodGKpPUpTc\"}}}', '{\"hash\": \"5ac6199159161f73b237d11759e0e1ecfe31c18941cad709eea86d72f4bc8ec8\", \"content\": {\"blockNumber\": \"8\", \"parentHash\": \"c29aa5f77b0514eb82ba9fc101d81caa8b09ca9924480d731798ffd0302f01c5\", \"timestamp\": \"2018-03-03 20:20:47\", \"data\": {\"Name\": \"P9xf10cKvO12tTcHBbp9Uizng/YDveVM9typ13K3HfxnhDbp5b9BL5M/qqKrZig0\", \"DOB\": \"AJNhNQ7BcYS3PkvAPpTiUSkyhleHATk0QsV3Y++QFnILc4IhnZqhqLyhV2nBS0w5\", \"PanCard\": \"oAWVfcsjRaILJJgo1eKHHi9lZaHsBqCFB0rCG4HyMv6oJEa/WXB5Y9IPARFRjai9\", \"AddharCard\": \"lrqb/IoiS9NvJWpTy2UiaOj6h1P403V50MkRu2dmf1jbHeBjaqLK+CodGKpPUpTc\"}}}', '{\"hash\": \"2393fdfdaaae2de1b162bb0adfbf9ac3732753de47fbc492ce9b489722c268c7\", \"content\": {\"blockNumber\": \"9\", \"parentHash\": \"5ac6199159161f73b237d11759e0e1ecfe31c18941cad709eea86d72f4bc8ec8\", \"timestamp\": \"2018-03-03 20:20:47\", \"data\": {\"Name\": \"P9xf10cKvO12tTcHBbp9Uizng/YDveVM9typ13K3HfxnhDbp5b9BL5M/qqKrZig0\", \"DOB\": \"AJNhNQ7BcYS3PkvAPpTiUSkyhleHATk0QsV3Y++QFnILc4IhnZqhqLyhV2nBS0w5\", \"PanCard\": \"oAWVfcsjRaILJJgo1eKHHi9lZaHsBqCFB0rCG4HyMv6oJEa/WXB5Y9IPARFRjai9\", \"AddharCard\": \"lrqb/IoiS9NvJWpTy2UiaOj6h1P403V50MkRu2dmf1jbHeBjaqLK+CodGKpPUpTc\"}}}']\n"
     ]
    }
   ],
   "source": [
    "toSave = []\n",
    "for x in blockchain:\n",
    "    abc = str(x.printBlock()).replace('\\'','\\\"')\n",
    "    toSave.append(abc)\n",
    "    \n",
    "loaded_json = json.loads(json.dumps(toSave, indent=4, sort_keys=True))\n",
    "print(loaded_json)"
   ]
  },
  {
   "cell_type": "code",
   "execution_count": 75,
   "metadata": {},
   "outputs": [],
   "source": [
    "np.savetxt(\"file_name.json\", loaded_r, fmt='%s')"
   ]
  },
  {
   "cell_type": "code",
   "execution_count": 77,
   "metadata": {},
   "outputs": [],
   "source": [
    "import pandas as pd\n",
    "import json\n",
    "\n",
    "json_df = pd.read_json(\"file_name.json\", lines=True)"
   ]
  },
  {
   "cell_type": "code",
   "execution_count": 85,
   "metadata": {},
   "outputs": [
    {
     "data": {
      "text/html": [
       "<div>\n",
       "<style>\n",
       "    .dataframe thead tr:only-child th {\n",
       "        text-align: right;\n",
       "    }\n",
       "\n",
       "    .dataframe thead th {\n",
       "        text-align: left;\n",
       "    }\n",
       "\n",
       "    .dataframe tbody tr th {\n",
       "        vertical-align: top;\n",
       "    }\n",
       "</style>\n",
       "<table border=\"1\" class=\"dataframe\">\n",
       "  <thead>\n",
       "    <tr style=\"text-align: right;\">\n",
       "      <th></th>\n",
       "      <th>content</th>\n",
       "      <th>hash</th>\n",
       "    </tr>\n",
       "  </thead>\n",
       "  <tbody>\n",
       "    <tr>\n",
       "      <th>0</th>\n",
       "      <td>{'blockNumber': '0', 'parentHash': 'None', 'ti...</td>\n",
       "      <td>3f2ee295d5619e75832aa0478138015b4f32343c1fe13f...</td>\n",
       "    </tr>\n",
       "    <tr>\n",
       "      <th>1</th>\n",
       "      <td>{'blockNumber': '1', 'parentHash': '3f2ee295d5...</td>\n",
       "      <td>c1da8f9a5c6cf88f1b87953c04de763be245eb782a54c8...</td>\n",
       "    </tr>\n",
       "    <tr>\n",
       "      <th>2</th>\n",
       "      <td>{'blockNumber': '2', 'parentHash': 'c1da8f9a5c...</td>\n",
       "      <td>fcdf7cffe02273365c1b342cb0bc87f71a7fb36c636145...</td>\n",
       "    </tr>\n",
       "    <tr>\n",
       "      <th>3</th>\n",
       "      <td>{'blockNumber': '3', 'parentHash': 'fcdf7cffe0...</td>\n",
       "      <td>c6efcec748ab448be957eeb6987e563df2ff46e2c0a6c6...</td>\n",
       "    </tr>\n",
       "    <tr>\n",
       "      <th>4</th>\n",
       "      <td>{'blockNumber': '4', 'parentHash': 'c6efcec748...</td>\n",
       "      <td>7ef4b8a64d2811a63dab879c38f66baa124eb62ce20e90...</td>\n",
       "    </tr>\n",
       "    <tr>\n",
       "      <th>5</th>\n",
       "      <td>{'blockNumber': '5', 'parentHash': '7ef4b8a64d...</td>\n",
       "      <td>b239e04bbcfb74565b43dd3628e51941aa2e251e90ae22...</td>\n",
       "    </tr>\n",
       "    <tr>\n",
       "      <th>6</th>\n",
       "      <td>{'blockNumber': '6', 'parentHash': 'b239e04bbc...</td>\n",
       "      <td>d00599c8b6664b3155759e73edd43bce5a19bad8281ccf...</td>\n",
       "    </tr>\n",
       "    <tr>\n",
       "      <th>7</th>\n",
       "      <td>{'blockNumber': '7', 'parentHash': 'd00599c8b6...</td>\n",
       "      <td>c29aa5f77b0514eb82ba9fc101d81caa8b09ca9924480d...</td>\n",
       "    </tr>\n",
       "    <tr>\n",
       "      <th>8</th>\n",
       "      <td>{'blockNumber': '8', 'parentHash': 'c29aa5f77b...</td>\n",
       "      <td>5ac6199159161f73b237d11759e0e1ecfe31c18941cad7...</td>\n",
       "    </tr>\n",
       "    <tr>\n",
       "      <th>9</th>\n",
       "      <td>{'blockNumber': '9', 'parentHash': '5ac6199159...</td>\n",
       "      <td>2393fdfdaaae2de1b162bb0adfbf9ac3732753de47fbc4...</td>\n",
       "    </tr>\n",
       "  </tbody>\n",
       "</table>\n",
       "</div>"
      ],
      "text/plain": [
       "                                             content  \\\n",
       "0  {'blockNumber': '0', 'parentHash': 'None', 'ti...   \n",
       "1  {'blockNumber': '1', 'parentHash': '3f2ee295d5...   \n",
       "2  {'blockNumber': '2', 'parentHash': 'c1da8f9a5c...   \n",
       "3  {'blockNumber': '3', 'parentHash': 'fcdf7cffe0...   \n",
       "4  {'blockNumber': '4', 'parentHash': 'c6efcec748...   \n",
       "5  {'blockNumber': '5', 'parentHash': '7ef4b8a64d...   \n",
       "6  {'blockNumber': '6', 'parentHash': 'b239e04bbc...   \n",
       "7  {'blockNumber': '7', 'parentHash': 'd00599c8b6...   \n",
       "8  {'blockNumber': '8', 'parentHash': 'c29aa5f77b...   \n",
       "9  {'blockNumber': '9', 'parentHash': '5ac6199159...   \n",
       "\n",
       "                                                hash  \n",
       "0  3f2ee295d5619e75832aa0478138015b4f32343c1fe13f...  \n",
       "1  c1da8f9a5c6cf88f1b87953c04de763be245eb782a54c8...  \n",
       "2  fcdf7cffe02273365c1b342cb0bc87f71a7fb36c636145...  \n",
       "3  c6efcec748ab448be957eeb6987e563df2ff46e2c0a6c6...  \n",
       "4  7ef4b8a64d2811a63dab879c38f66baa124eb62ce20e90...  \n",
       "5  b239e04bbcfb74565b43dd3628e51941aa2e251e90ae22...  \n",
       "6  d00599c8b6664b3155759e73edd43bce5a19bad8281ccf...  \n",
       "7  c29aa5f77b0514eb82ba9fc101d81caa8b09ca9924480d...  \n",
       "8  5ac6199159161f73b237d11759e0e1ecfe31c18941cad7...  \n",
       "9  2393fdfdaaae2de1b162bb0adfbf9ac3732753de47fbc4...  "
      ]
     },
     "execution_count": 85,
     "metadata": {},
     "output_type": "execute_result"
    }
   ],
   "source": [
    "json_df"
   ]
  },
  {
   "cell_type": "code",
   "execution_count": null,
   "metadata": {},
   "outputs": [],
   "source": []
  }
 ],
 "metadata": {
  "kernelspec": {
   "display_name": "Python 3",
   "language": "python",
   "name": "python3"
  },
  "language_info": {
   "codemirror_mode": {
    "name": "ipython",
    "version": 3
   },
   "file_extension": ".py",
   "mimetype": "text/x-python",
   "name": "python",
   "nbconvert_exporter": "python",
   "pygments_lexer": "ipython3",
   "version": "3.6.3"
  }
 },
 "nbformat": 4,
 "nbformat_minor": 2
}
